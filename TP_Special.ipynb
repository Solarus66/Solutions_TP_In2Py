{
 "cells": [
  {
   "cell_type": "markdown",
   "metadata": {},
   "source": [
    "Exercice 1"
   ]
  },
  {
   "cell_type": "code",
   "execution_count": 4,
   "metadata": {},
   "outputs": [
    {
     "name": "stdout",
     "output_type": "stream",
     "text": [
      "Enter a whole number : 0\n",
      "Invalid input !\n"
     ]
    }
   ],
   "source": [
    "n = int(input(\"Enter a whole number : \"))\n",
    "if(n > 0):\n",
    "    somme = 0\n",
    "    produit = 1\n",
    "    for i in range(0, n):\n",
    "        if(i%2 != 0):\n",
    "            somme += i+3\n",
    "        else:\n",
    "            produit *= i+3\n",
    "    print(\"Somme :\", somme)\n",
    "    print(\"Produit \", produit)\n",
    "else:\n",
    "    print(\"Invalid input !\")"
   ]
  },
  {
   "cell_type": "markdown",
   "metadata": {},
   "source": [
    "Exercice 2"
   ]
  },
  {
   "cell_type": "code",
   "execution_count": 14,
   "metadata": {},
   "outputs": [
    {
     "name": "stdout",
     "output_type": "stream",
     "text": [
      "Enter the number of the day of the week : -7\n",
      "Invalid input !\n"
     ]
    }
   ],
   "source": [
    "n = int(input(\"Enter a number of the day of the week : \"))\n",
    "jour = ['Lundi', 'Mardi', 'Mercredi', 'Jeudi', 'Vendredi', 'Weekend']\n",
    "if(n >= 0 and n <= 6):\n",
    "    if(n >= 0 and n <= 4):\n",
    "        print(jour[n])\n",
    "    else:\n",
    "        print(jour[5])\n",
    "else:\n",
    "    print(\"Invalid input !\")"
   ]
  },
  {
   "cell_type": "markdown",
   "metadata": {},
   "source": [
    "Exercice 3"
   ]
  },
  {
   "cell_type": "code",
   "execution_count": 18,
   "metadata": {},
   "outputs": [
    {
     "name": "stdout",
     "output_type": "stream",
     "text": [
      "Enter a month number : 4\n",
      "31 days !\n"
     ]
    }
   ],
   "source": [
    "n = int(input(\"Enter a month number : \"))\n",
    "jour = ['Lundi', 'Mardi', 'Mercredi', 'Jeudi', 'Vendredi', 'Weekend']\n",
    "if(n >= 0 and n <= 11):\n",
    "    if(n%2 == 0):\n",
    "        print(\"31 days !\")\n",
    "    else:\n",
    "        if(n == 1):\n",
    "            print(\"28 days !\")\n",
    "        else:\n",
    "            print(\"30 days !\")\n",
    "else:\n",
    "    print(\"Invalid input !\")"
   ]
  },
  {
   "cell_type": "markdown",
   "metadata": {},
   "source": [
    "Exercice 4"
   ]
  },
  {
   "cell_type": "code",
   "execution_count": 19,
   "metadata": {},
   "outputs": [
    {
     "name": "stdout",
     "output_type": "stream",
     "text": [
      "Ange\n",
      "Ange\n",
      "Ange\n"
     ]
    }
   ],
   "source": [
    "name = \"Ange\"\n",
    "for i in range(0, 3):\n",
    "    print(name)"
   ]
  },
  {
   "cell_type": "code",
   "execution_count": 21,
   "metadata": {},
   "outputs": [
    {
     "name": "stdout",
     "output_type": "stream",
     "text": [
      "Ange\n",
      "Ange\n",
      "Ange\n"
     ]
    }
   ],
   "source": [
    "name = \"Ange\"\n",
    "i = 0\n",
    "while(i < 3):\n",
    "    print(name)\n",
    "    i += 1"
   ]
  },
  {
   "cell_type": "markdown",
   "metadata": {},
   "source": [
    "Exercice 5"
   ]
  },
  {
   "cell_type": "code",
   "execution_count": 25,
   "metadata": {},
   "outputs": [
    {
     "name": "stdout",
     "output_type": "stream",
     "text": [
      "Enter the a0 value : 0\n",
      "Enter the a1 value : 1\n",
      "0\n",
      "1\n",
      "1\n",
      "2\n",
      "3\n",
      "5\n",
      "8\n",
      "13\n",
      "21\n",
      "34\n",
      "55\n",
      "89\n",
      "144\n",
      "233\n",
      "377\n"
     ]
    }
   ],
   "source": [
    "a_0 = int(input(\"Enter the a0 value : \"))\n",
    "a_1 = int(input(\"Enter the a1 value : \"))\n",
    "\n",
    "for i in range(0, 15):\n",
    "    if(i == 0):\n",
    "        print(a_0)\n",
    "    elif(i == 1):\n",
    "        print(a_1)\n",
    "    else:\n",
    "        a_2 = a_0 + a_1\n",
    "        print(a_2)\n",
    "        (a_0, a_1) = (a_1, a_2)"
   ]
  },
  {
   "cell_type": "markdown",
   "metadata": {},
   "source": [
    "Exercice 6"
   ]
  },
  {
   "cell_type": "code",
   "execution_count": 28,
   "metadata": {},
   "outputs": [
    {
     "name": "stdout",
     "output_type": "stream",
     "text": [
      "0.0\n",
      "1.0\n",
      "0.5\n",
      "3.25\n",
      "3.125\n",
      "11.3125\n",
      "15.03125\n",
      "41.453125\n",
      "65.8203125\n",
      "157.26953125\n",
      "276.095703125\n",
      "609.8564453125\n",
      "1133.21533203125\n",
      "2396.177001953125\n",
      "4597.7344970703125\n",
      "9487.398254394531\n",
      "18536.902618408203\n",
      "37730.646072387695\n",
      "74476.03089141846\n",
      "150429.9536628723\n",
      "298643.0695056915\n",
      "600611.3957414627\n",
      "1196234.906387806\n",
      "2399951.640418291\n",
      "4788680.539372563\n",
      "9594195.190941155\n",
      "19163139.213588268\n",
      "38364155.1796176\n",
      "76671495.2305736\n",
      "153428213.15413958\n"
     ]
    }
   ],
   "source": [
    "x_0 = 0.\n",
    "x_1 = 1.\n",
    "\n",
    "print(x_0)\n",
    "print(x_1)\n",
    "for i in range(0, 28):\n",
    "    x_i = (6*x_0 + x_1) / 2\n",
    "    print(x_i)\n",
    "    (x_0, x_1) = (x_1, x_i)"
   ]
  },
  {
   "cell_type": "markdown",
   "metadata": {},
   "source": [
    "Exercice 7"
   ]
  },
  {
   "cell_type": "code",
   "execution_count": 35,
   "metadata": {},
   "outputs": [
    {
     "name": "stdout",
     "output_type": "stream",
     "text": [
      "Enter a year : 2024\n",
      "True\n"
     ]
    }
   ],
   "source": [
    "year = int(input(\"Enter a year : \"))\n",
    "print(year%4 == 0 and year%100 != 0 or year%400 == 0)"
   ]
  },
  {
   "cell_type": "markdown",
   "metadata": {},
   "source": [
    "Exercice 8"
   ]
  },
  {
   "cell_type": "code",
   "execution_count": 10,
   "metadata": {},
   "outputs": [
    {
     "name": "stdout",
     "output_type": "stream",
     "text": [
      "Enter a natural number : 12\n",
      "Somme : 506\n"
     ]
    }
   ],
   "source": [
    "n = int(input(\"Enter a natural number : \"))\n",
    "if(n > 0):\n",
    "    somme = 0\n",
    "    for i in range(0, n):\n",
    "        somme += i**2\n",
    "    print(\"Somme :\", somme)\n",
    "elif(n < 0):\n",
    "    print(\"Invalid input !\")\n",
    "else:\n",
    "    print(\"Nothing to do !\")"
   ]
  },
  {
   "cell_type": "code",
   "execution_count": 6,
   "metadata": {},
   "outputs": [
    {
     "name": "stdout",
     "output_type": "stream",
     "text": [
      "Enter a natural number : 3\n",
      "Somme : 5\n"
     ]
    }
   ],
   "source": [
    "n = int(input(\"Enter a natural number : \"))\n",
    "if(n > 0):\n",
    "    somme = 0\n",
    "    i = 0\n",
    "    while(i < n):\n",
    "        somme += i**2\n",
    "        i += 1\n",
    "    print(\"Somme :\", somme)\n",
    "elif(n < 0):\n",
    "    print(\"Invalid input !\")\n",
    "else:\n",
    "    print(\"Nothing to do !\")"
   ]
  },
  {
   "cell_type": "code",
   "execution_count": 32,
   "metadata": {},
   "outputs": [
    {
     "name": "stdout",
     "output_type": "stream",
     "text": [
      "Enter a natural number : 12\n",
      "3\n"
     ]
    }
   ],
   "source": [
    "m = int(input(\"Enter a natural number : \"))\n",
    "if(m >= 0):\n",
    "    somme = 0\n",
    "    for i in range(0, m+1):\n",
    "        somme += i**2\n",
    "        if(somme >= m):\n",
    "            print(i)\n",
    "            break\n",
    "else:\n",
    "    print(\"Invalid input !\")"
   ]
  },
  {
   "cell_type": "code",
   "execution_count": 33,
   "metadata": {},
   "outputs": [
    {
     "name": "stdout",
     "output_type": "stream",
     "text": [
      "Enter a natural number : 12\n",
      "3\n"
     ]
    }
   ],
   "source": [
    "m = int(input(\"Enter a natural number : \"))\n",
    "if(m >= 0):\n",
    "    somme = 0\n",
    "    i = 0\n",
    "    while(i <= m):\n",
    "        somme += i**2\n",
    "        if(somme >= m):\n",
    "            print(i)\n",
    "            break\n",
    "        i += 1\n",
    "else:\n",
    "    print(\"Invalid input !\")"
   ]
  },
  {
   "cell_type": "markdown",
   "metadata": {},
   "source": [
    "Exercice 9"
   ]
  },
  {
   "cell_type": "code",
   "execution_count": 31,
   "metadata": {},
   "outputs": [
    {
     "name": "stdout",
     "output_type": "stream",
     "text": [
      "Enter a natural number : -7\n",
      "-7\n",
      "-1\n",
      "1\n",
      "7\n"
     ]
    }
   ],
   "source": [
    "n = int(input(\"Enter a natural number : \"))\n",
    "if(n == 0):\n",
    "    print(\"Every integer except 0 divides\", n)\n",
    "elif(n > 0):\n",
    "    for i in range(1, n+1):\n",
    "        if(n%i == 0):\n",
    "            print(i)\n",
    "else:\n",
    "    for i in range(n, abs(n)+1):\n",
    "        if(i != 0 and n%i == 0):\n",
    "            print(i)"
   ]
  },
  {
   "cell_type": "code",
   "execution_count": 38,
   "metadata": {},
   "outputs": [
    {
     "name": "stdout",
     "output_type": "stream",
     "text": [
      "Enter a natural number : 1\n"
     ]
    }
   ],
   "source": [
    "n = int(input(\"Enter a natural number : \"))\n",
    "if(n == 0):\n",
    "    print(\"Every prime number divides\", n)\n",
    "else:\n",
    "    n = abs(n)\n",
    "    i = 2\n",
    "    divisors = []\n",
    "    while(n != 1):\n",
    "        if(n%i == 0):\n",
    "            if(not(i in divisors)):\n",
    "                divisors.append(i)\n",
    "                print(i)\n",
    "            n = n / i\n",
    "            i = 2\n",
    "        else:\n",
    "            i += 1"
   ]
  },
  {
   "cell_type": "markdown",
   "metadata": {},
   "source": [
    "Exercice 10"
   ]
  },
  {
   "cell_type": "code",
   "execution_count": 37,
   "metadata": {},
   "outputs": [
    {
     "name": "stdout",
     "output_type": "stream",
     "text": [
      "Enter a natural number between 0 and 9 : 7\n",
      "Enter another natural number : 13\n",
      "7 x 0 = 0\n",
      "7 x 1 = 7\n",
      "7 x 2 = 14\n",
      "7 x 3 = 21\n",
      "7 x 4 = 28\n",
      "7 x 5 = 35\n",
      "7 x 6 = 42\n",
      "7 x 7 = 49\n",
      "7 x 8 = 56\n",
      "7 x 9 = 63\n",
      "7 x 10 = 70\n",
      "7 x 11 = 77\n",
      "7 x 12 = 84\n",
      "7 x 13 = 91\n"
     ]
    }
   ],
   "source": [
    "n = int(input(\"Enter a natural number between 0 and 9 : \"))\n",
    "N = int(input(\"Enter another natural number : \"))\n",
    "if(N >= 0):\n",
    "    for i in range(0, N+1):\n",
    "        print(n,\"x\",i,\"=\",n*i)\n",
    "else:\n",
    "    print(\"Invalid input !\")"
   ]
  },
  {
   "cell_type": "markdown",
   "metadata": {},
   "source": [
    "Exercice 11"
   ]
  },
  {
   "cell_type": "code",
   "execution_count": 40,
   "metadata": {},
   "outputs": [
    {
     "name": "stdout",
     "output_type": "stream",
     "text": [
      "0\n",
      "3\n",
      "6\n",
      "7\n",
      "9\n",
      "11\n",
      "12\n",
      "14\n",
      "15\n",
      "18\n",
      "21\n",
      "22\n",
      "24\n",
      "27\n",
      "28\n",
      "30\n",
      "33\n",
      "35\n",
      "36\n",
      "39\n"
     ]
    }
   ],
   "source": [
    "for i in range(0, 41):\n",
    "    if(i%3 == 0 or i%7 == 0 or i%11 == 0):\n",
    "        print(i)"
   ]
  },
  {
   "cell_type": "markdown",
   "metadata": {},
   "source": [
    "Exercice 12"
   ]
  },
  {
   "cell_type": "code",
   "execution_count": 48,
   "metadata": {},
   "outputs": [
    {
     "name": "stdout",
     "output_type": "stream",
     "text": [
      "Enter a decimal number : -2.9\n",
      "-3\n"
     ]
    }
   ],
   "source": [
    "x = input(\"Enter a decimal number : \")\n",
    "if('.' in x):\n",
    "    ch = x.split(\".\")\n",
    "    x = int(ch[0])\n",
    "    if(x < 0):\n",
    "        print(x-1)\n",
    "    else:\n",
    "        print(x)\n",
    "else:\n",
    "    print(x)"
   ]
  },
  {
   "cell_type": "markdown",
   "metadata": {},
   "source": [
    "Exercice 13"
   ]
  },
  {
   "cell_type": "code",
   "execution_count": null,
   "metadata": {},
   "outputs": [],
   "source": [
    "continuons = True\n",
    "while(continuons):\n",
    "    a = float(input(\"Abscisse : \"))\n",
    "    b = float(input(\"Ordonnee : \"))\n",
    "    if(a == 0 and b == 0):\n",
    "        print(\"Origine.\")\n",
    "    elif(a >= 0 and b >= 0):\n",
    "        print(\"First quadrant.\")\n",
    "    elif(a >= 0 and b <= 0):\n",
    "        print(\"Second quadrant.\")\n",
    "    elif(a <= 0 and b <= 0):\n",
    "        print(\"Third quadrant.\")\n",
    "    elif(a <= 0 and b >= 0):\n",
    "        print(\"Fourth quadrant.\")"
   ]
  }
 ],
 "metadata": {
  "kernelspec": {
   "display_name": "Python 3 (ipykernel)",
   "language": "python",
   "name": "python3"
  },
  "language_info": {
   "codemirror_mode": {
    "name": "ipython",
    "version": 3
   },
   "file_extension": ".py",
   "mimetype": "text/x-python",
   "name": "python",
   "nbconvert_exporter": "python",
   "pygments_lexer": "ipython3",
   "version": "3.8.10"
  }
 },
 "nbformat": 4,
 "nbformat_minor": 4
}
