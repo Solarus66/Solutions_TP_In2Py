{
 "cells": [
  {
   "cell_type": "markdown",
   "metadata": {
    "id": "22f02e1a"
   },
   "source": [
    "\n",
    "### <center> <b> <span style=\"color:blue;\"> Travaux Pratiques: Variables, Types & Opérations </span> </b></center>"
   ]
  },
  {
   "cell_type": "markdown",
   "metadata": {
    "id": "ddc667e7"
   },
   "source": [
    "**Exercise 00:**  \n",
    ">\n",
    "\n",
    "  \n",
    "> 1. Déclarez une variable `prenom` et attribuez-lui une valeur.\n",
    "  > 2. Déclarez une variable `nom` et attribuez-lui une valeur.\n",
    "  > 3. Déclarez une variable `prenom_nom` et attribuez-lui une valeur.\n",
    "  > 4. Déclarez une variable `pays` et attribuez-lui une valeur.\n",
    "  > 5. Déclarez une variable `ville` et attribuez-lui une valeur.\n",
    "  > 6. Déclarez une variable `age` et attribuez-lui une valeur.\n",
    "  > 7. Déclarez une variable `annee` et attribuez-lui une valeur.\n",
    "  > 8. Déclarez une variable `est_marie` et attribuez-lui une valeur.\n",
    "  > 9. Déclarez une variable `est_vrai` et attribuez-lui une valeur.\n",
    "\n",
    "> Pour chacune des variables ci-dessus, affichez la valeur qu'elle contient à l'aide de la fonction `print()`.\n",
    "\n"
   ]
  },
  {
   "cell_type": "code",
   "execution_count": 4,
   "metadata": {
    "id": "ebd3951d"
   },
   "outputs": [
    {
     "name": "stdout",
     "output_type": "stream",
     "text": [
      "Ange\n",
      "TOSSOU\n",
      "Ange TOSSOU\n",
      "Benin\n",
      "Porto-Novo\n",
      "19\n",
      "2002\n",
      "False\n",
      "True\n"
     ]
    }
   ],
   "source": [
    "prenom = \"Ange\"\n",
    "nom = \"TOSSOU\"\n",
    "prenom_nom = \"Ange TOSSOU\"\n",
    "pays = \"Benin\"\n",
    "ville = \"Porto-Novo\"\n",
    "age = 19\n",
    "annee = 2002\n",
    "est_marie = False\n",
    "est_vrai = True\n",
    "\n",
    "print(prenom)\n",
    "print(nom)\n",
    "print(prenom_nom)\n",
    "print(pays)\n",
    "print(ville)\n",
    "print(age)\n",
    "print(annee)\n",
    "print(est_marie)\n",
    "print(est_vrai)"
   ]
  },
  {
   "cell_type": "markdown",
   "metadata": {
    "id": "85eb4f96"
   },
   "source": [
    "**Exercise 01:** \n",
    "> Vérifiez le type de données de toutes vos variables à l'aide de la fonction intégrée `type()`.**\n"
   ]
  },
  {
   "cell_type": "code",
   "execution_count": 7,
   "metadata": {
    "id": "c5c47124",
    "scrolled": false
   },
   "outputs": [
    {
     "name": "stdout",
     "output_type": "stream",
     "text": [
      "<class 'str'>\n",
      "<class 'str'>\n",
      "<class 'str'>\n",
      "<class 'str'>\n",
      "<class 'int'>\n",
      "<class 'int'>\n",
      "<class 'bool'>\n",
      "<class 'bool'>\n"
     ]
    }
   ],
   "source": [
    "print(type(prenom))\n",
    "print(type(nom))\n",
    "print(type(prenom_nom))\n",
    "print(type(ville))\n",
    "print(type(age))\n",
    "print(type(annee))\n",
    "print(type(est_marie))\n",
    "print(type(est_vrai))\n",
    "# Décommenter pour avoir le type "
   ]
  },
  {
   "cell_type": "markdown",
   "metadata": {
    "id": "76cdc19b"
   },
   "source": [
    "**Exercise 02:** \n",
    "> Calculez la valeur de $y$ ($y = x^2 + 6x + 9$). Essayez d'utiliser différentes valeurs de $x$ et déterminez à quelle valeur de $x$ $y$ sera égal à 0.**"
   ]
  },
  {
   "cell_type": "code",
   "execution_count": 44,
   "metadata": {
    "id": "fb4df11a"
   },
   "outputs": [
    {
     "name": "stdout",
     "output_type": "stream",
     "text": [
      "1\n",
      "0.25\n",
      "0.0400000000000027\n",
      "0.010000000000001563\n",
      "0.0024999999999977263\n",
      "9.999999999976694e-05\n",
      "0\n"
     ]
    }
   ],
   "source": [
    "x = -2\n",
    "print(x**2 + 6*x + 9)\n",
    "x = -2.5\n",
    "print(x**2 + 6*x + 9)\n",
    "x = -2.8\n",
    "print(x**2 + 6*x + 9)\n",
    "x = -2.9\n",
    "print(x**2 + 6*x + 9)\n",
    "x = -2.95\n",
    "print(x**2 + 6*x + 9)\n",
    "x = -2.99\n",
    "print(x**2 + 6*x + 9)\n",
    "x = -3\n",
    "print(x**2 + 6*x + 9)"
   ]
  },
  {
   "cell_type": "markdown",
   "metadata": {
    "id": "8f40e3ab"
   },
   "source": [
    "**Exercise 03:** \n",
    ">    \n",
    "\n",
    "     1. Déclarez votre âge sous forme de variable entière\n",
    "     2. Déclarez votre taille en tant que variable flottante\n",
    "     3. Déclarez une variable qui stocke la base et la hauteur d'un triangle. Calculez l'aire de ce triangle (aire = 0,5 x b x h)."
   ]
  },
  {
   "cell_type": "code",
   "execution_count": 13,
   "metadata": {
    "id": "rpAlhgG_9A5z"
   },
   "outputs": [
    {
     "name": "stdout",
     "output_type": "stream",
     "text": [
      "The area of this triangle equals 6.75 ua.\n"
     ]
    }
   ],
   "source": [
    "age = 19\n",
    "taille = 1.83\n",
    "(b, h) = (3, 4.5)\n",
    "aire = 0.5 * b * h\n",
    "print(\"The area of this triangle equals\", aire, \"ua.\")"
   ]
  },
  {
   "cell_type": "markdown",
   "metadata": {
    "id": "9957391d"
   },
   "source": [
    "## *Astuce : recevoir les entrées de l'utilisateur *\n",
    "**Pour recevoir une entrée de l'utilisateur, nous utilisons `input()`.**.\n",
    "\n",
    "**Exemple**\n",
    "Recevez deux nombres en entrée de l'utilisateur et calculez leur puissance :\n",
    "```python\n",
    "base = input(\"Entrez une base : \")\n",
    "exposant = input(\"Entrez un exposant : \")\n",
    "resultat = float(base) ** float(exposant)\n",
    "print(f \"{base} à la puissance {exposant} = {résultat}\")\n",
    "```"
   ]
  },
  {
   "cell_type": "markdown",
   "metadata": {
    "id": "0fb34716"
   },
   "source": [
    "**Exercise 04:** \n",
    "> **Write a small code that asks the user to enter the side $a$, the side $b$ and the side $c$ of a triangle. Calculate the perimeter of the triangle (perimeter = a + b + c).**"
   ]
  },
  {
   "cell_type": "code",
   "execution_count": 14,
   "metadata": {
    "id": "6618f067"
   },
   "outputs": [
    {
     "name": "stdout",
     "output_type": "stream",
     "text": [
      "Enter the side a : 1.87\n",
      "Enter the side b : 2.18076\n",
      "Enter the side c : 5\n",
      "The perimeter of this triangle equals 9.05076 ul.\n"
     ]
    }
   ],
   "source": [
    "a = input(\"Enter the side a : \")\n",
    "b = input(\"Enter the side b : \")\n",
    "c = input(\"Enter the side c : \")\n",
    "perimeter = float(a) + float(b) + float(c)\n",
    "print(\"The perimeter of this triangle equals\", perimeter, \"ul.\")"
   ]
  },
  {
   "cell_type": "markdown",
   "metadata": {
    "id": "e482c15c"
   },
   "source": [
    "**Exercise 05:** \n",
    "> **Obtenez la longueur et la largeur d'un rectangle à l'aide de l'invite. Calculer sa `superficie` et son `perimetre`.**"
   ]
  },
  {
   "cell_type": "code",
   "execution_count": 45,
   "metadata": {
    "id": "286cec4c"
   },
   "outputs": [
    {
     "name": "stdout",
     "output_type": "stream",
     "text": [
      "Entrez la longueur du rectangle : 17.8\n",
      "Entrez la largeur du rectangle : 12\n",
      "Le perimetre de ce rectangle vaut 59.6 ul.\n",
      "La superficie de ce rectangle vaut 213.60000000000002 ua.\n"
     ]
    }
   ],
   "source": [
    "longueur = input(\"Entrez la longueur du rectangle : \")\n",
    "largeur = input(\"Entrez la largeur du rectangle : \")\n",
    "longueur = float(longueur)\n",
    "largeur = float(largeur)\n",
    "perimetre = (longueur + largeur) * 2\n",
    "superficie = longueur * largeur\n",
    "print(\"Le perimetre de ce rectangle vaut\", perimetre, \"ul.\")\n",
    "print(\"La superficie de ce rectangle vaut\", superficie, \"ua.\")"
   ]
  },
  {
   "cell_type": "markdown",
   "metadata": {
    "id": "cf15844c"
   },
   "source": [
    "**Exercice 06:** \n",
    "> **Obtenez le rayon d'un cercle en utilisant l'invite. Calculez l'aire (aire = pi x r x r) et la circonférence (c = 2 x pi x r) où pi = 3,14.**"
   ]
  },
  {
   "cell_type": "code",
   "execution_count": 46,
   "metadata": {
    "id": "ee0ee85e"
   },
   "outputs": [
    {
     "name": "stdout",
     "output_type": "stream",
     "text": [
      "Entrez le rayon du cercle : 4.8\n",
      "La circonference de ce cercle vaut 30.144 ul.\n",
      "L'aire de ce cercle vaut 72.3456 ua.\n"
     ]
    }
   ],
   "source": [
    "rayon = input(\"Entrez le rayon du cercle : \")\n",
    "rayon = float(rayon)\n",
    "PI = 3.14\n",
    "circonference = 2 * PI * rayon\n",
    "aire = PI * rayon**2\n",
    "print(\"La circonference de ce cercle vaut\", circonference, \"ul.\")\n",
    "print(\"L'aire de ce cercle vaut\", aire, \"ua.\")"
   ]
  },
  {
   "cell_type": "markdown",
   "metadata": {
    "id": "d9dec37a"
   },
   "source": [
    "**Exercice 07:**\n",
    "> **Calculez la pente, l'ordonnée à l'origine en x de $y = 2x -2$.**"
   ]
  },
  {
   "cell_type": "code",
   "execution_count": 23,
   "metadata": {
    "id": "203e449c"
   },
   "outputs": [
    {
     "name": "stdout",
     "output_type": "stream",
     "text": [
      "La pente vaut : 2\n",
      "L'ordonnee a l'origine en x vaut : -2\n"
     ]
    }
   ],
   "source": [
    "print(\"La pente vaut : 2\")\n",
    "x = 0\n",
    "y = 2*x - 2\n",
    "print(\"L'ordonnee a l'origine en x vaut :\", y)"
   ]
  },
  {
   "cell_type": "markdown",
   "metadata": {
    "id": "2f74d685"
   },
   "source": [
    "**Exercice 08:** \n",
    "> **Rédigez un script qui demande à l'utilisateur d'entrer les heures et le taux horaire. Calculez la rémunération de la personne ?**"
   ]
  },
  {
   "cell_type": "code",
   "execution_count": 25,
   "metadata": {
    "id": "7cff5a0a"
   },
   "outputs": [
    {
     "name": "stdout",
     "output_type": "stream",
     "text": [
      "Entrez les heures : 8\n",
      "Entrez le taux horaire : 12.5\n",
      "Votre remuneration est de 100.0\n"
     ]
    }
   ],
   "source": [
    "heures = input(\"Entrez les heures : \")\n",
    "tauxHoraire = input(\"Entrez le taux horaire : \")\n",
    "remuneration = float(heures) * float(tauxHoraire)\n",
    "print(\"Votre remuneration est de\", remuneration)"
   ]
  },
  {
   "cell_type": "markdown",
   "metadata": {
    "id": "6ddd662c"
   },
   "source": [
    "**Exercice 09:** \n",
    "> **Écrivez un script qui demande à l'utilisateur d'entrer le nombre d'années. Calculez le nombre de secondes qu'une personne peut vivre. Supposons qu'une personne puisse vivre cent ans.**"
   ]
  },
  {
   "cell_type": "code",
   "execution_count": 28,
   "metadata": {
    "id": "44c2a63c"
   },
   "outputs": [
    {
     "name": "stdout",
     "output_type": "stream",
     "text": [
      "Entrez votre age : 0\n",
      "Vous avez deja vecu pendant 0 seconde(s)\n"
     ]
    }
   ],
   "source": [
    "age = input(\"Entrez votre age : \")\n",
    "uneAnnee = 365 * 24 * 60 * 60\n",
    "ageEnSeconde = int(age) * uneAnnee\n",
    "print(\"Vous avez deja vecu pendant\", ageEnSeconde, \"seconde(s)\")"
   ]
  },
  {
   "cell_type": "markdown",
   "metadata": {
    "id": "9b253387"
   },
   "source": [
    "**Exercice 10:** \n",
    "> **Écrivez un script Python qui affiche le tableau suivant**\n",
    "\n",
    "    1 1 1 1 1\n",
    "    \n",
    "    2 1 2 4 8\n",
    "    \n",
    "    3 1 3 9 27\n",
    "    \n",
    "    4 1 4 16 64\n",
    "    \n",
    "    5 1 5 25 125"
   ]
  },
  {
   "cell_type": "code",
   "execution_count": 31,
   "metadata": {
    "id": "aa2dae84"
   },
   "outputs": [
    {
     "name": "stdout",
     "output_type": "stream",
     "text": [
      "1 1 1 1 1\n",
      "\n",
      "2 1 2 4 8\n",
      "\n",
      "3 1 3 9 27\n",
      "\n",
      "4 1 4 16 64\n",
      "\n",
      "5 1 5 25 125\n"
     ]
    }
   ],
   "source": [
    "print(1, 1, 1, 1, 1)\n",
    "print()\n",
    "print(2, 1, 2, 4, 8)\n",
    "print()\n",
    "print(3, 1, 3, 9, 27)\n",
    "print()\n",
    "print(4, 1, 4, 16, 64)\n",
    "print()\n",
    "print(5, 1, 5, 25, 125)"
   ]
  },
  {
   "cell_type": "markdown",
   "metadata": {
    "id": "953e7d8c"
   },
   "source": [
    "**Exercise 11:** \n",
    ">**Attribuez aux variables `temps` et `distance` les valeurs $6.892$ et $19.7$. Calculer et afficher la valeur de la vitesse. Améliorer l'affichage en imposant un chiffre après la virgule.**"
   ]
  },
  {
   "cell_type": "code",
   "execution_count": 33,
   "metadata": {
    "id": "6d787289"
   },
   "outputs": [
    {
     "name": "stdout",
     "output_type": "stream",
     "text": [
      "La vitesse est de 2.86 uv.\n"
     ]
    }
   ],
   "source": [
    "temps = 6.892\n",
    "distance = 19.7\n",
    "vitesse = round(distance / temps, 2)\n",
    "print(\"La vitesse est de\", vitesse, \"uv.\")"
   ]
  },
  {
   "cell_type": "markdown",
   "metadata": {
    "id": "2d0f1ff9"
   },
   "source": [
    "**Exercice 12:** \n",
    "> **Écrire un programme qui, à partir de la saisie d’un rayon et d’une hauteur, calcule le volume d’un cône droit.**"
   ]
  },
  {
   "cell_type": "code",
   "execution_count": 34,
   "metadata": {
    "id": "969f5f68"
   },
   "outputs": [
    {
     "name": "stdout",
     "output_type": "stream",
     "text": [
      "Entrez le rayon : 12\n",
      "Entrez la hauteur :9\n",
      "Le volume de ce cone est : 1356.48 ua.\n"
     ]
    }
   ],
   "source": [
    "rayon = input(\"Entrez le rayon : \")\n",
    "rayon = float(rayon)\n",
    "hauteur = input(\"Entrez la hauteur :\")\n",
    "hauteur = float(hauteur)\n",
    "PI = 3.14\n",
    "volume = (PI * rayon**2 * hauteur)/3\n",
    "print(\"Le volume de ce cone est :\", volume, \"ua.\")"
   ]
  },
  {
   "cell_type": "markdown",
   "metadata": {
    "id": "e9b3ce2a"
   },
   "source": [
    "**Exercise 13:** \n",
    "> **L'utilisateur donne un entier positif et le programme annonce combien de fois de suite cet entier est divisible par 2.**"
   ]
  },
  {
   "cell_type": "code",
   "execution_count": 47,
   "metadata": {
    "id": "5c8fea9a"
   },
   "outputs": [
    {
     "name": "stdout",
     "output_type": "stream",
     "text": [
      "Entrez un entier positif : 15\n",
      "15 est 7 fois divisible par 2.\n"
     ]
    }
   ],
   "source": [
    "a = input(\"Entrez un entier positif : \")\n",
    "a = int(a)\n",
    "print(a, \"est\", (a//2), \"fois divisible par 2.\")"
   ]
  },
  {
   "cell_type": "markdown",
   "metadata": {
    "id": "0485aed6"
   },
   "source": [
    "**Exercise 14:** \n",
    ">**L'utilisateur donne un nombre entier entre 2 et 12, le programme donne le nombre de façons de le faire en lançant deux dés.**"
   ]
  },
  {
   "cell_type": "code",
   "execution_count": null,
   "metadata": {
    "id": "31f48a15"
   },
   "outputs": [],
   "source": [
    "#a = input(\"Entrez un entier entre 2 et 12 : \")\n",
    "#a = int(a)"
   ]
  },
  {
   "cell_type": "markdown",
   "metadata": {
    "id": "cead0c8f"
   },
   "source": [
    "**Exercice 15:** \n",
    "> **Utilisez la fonction d'entrée intégrée `input()` pour obtenir le `_prénom_`, le `_nom_`, le `_pays_d_origine` et l'`_age_` d'un utilisateur et stockez la valeur dans les noms des variables correspondantes.**"
   ]
  },
  {
   "cell_type": "code",
   "execution_count": 40,
   "metadata": {
    "id": "0a2694a9"
   },
   "outputs": [
    {
     "name": "stdout",
     "output_type": "stream",
     "text": [
      "Entrez votre prenom : Ange\n",
      "Entrez votre nom : TOSSOU\n",
      "Entrez votre pays d'origine : Benin\n",
      "Entrez votre age : 19\n"
     ]
    }
   ],
   "source": [
    "prenom = input(\"Entrez votre prenom : \")\n",
    "nom = input(\"Entrez votre nom : \")\n",
    "pays = input(\"Entrez votre pays d'origine : \")\n",
    "age = input(\"Entrez votre age : \")\n",
    "age = int(age)"
   ]
  },
  {
   "cell_type": "markdown",
   "metadata": {
    "id": "33240a56"
   },
   "source": [
    "**Exercice 16:** \n",
    "\n",
    "**Déclarer $5$ comme `num_one` et $4$ comme `num_two`**\n",
    "\n",
    "   1. Additionner `num_one` et `num_two` et affecter la valeur à une variable `totale`.\n",
    "   2. Soustraire `num_two` de `num_one` et affecter la valeur à une variable `diff`.\n",
    "   3. Multipliez le `num_one` et le `num_two` et attribuez la valeur à une variable `produit`.\n",
    "   4. Divisez le `num_one` par le `num_two` et attribuez la valeur à une variable `division`.\n",
    "   5. Calculez `num_one` à la puissance de `num_two` et attribuez la valeur à une variable `exp`."
   ]
  },
  {
   "cell_type": "code",
   "execution_count": 41,
   "metadata": {
    "id": "c2f3e814"
   },
   "outputs": [],
   "source": [
    "num_one = 5\n",
    "num_two = 4\n",
    "totale = num_one + num_two\n",
    "diff = num_one - num_two\n",
    "produit = num_one * num_two\n",
    "division = num_one / num_two\n",
    "exp = num_one**num_two"
   ]
  },
  {
   "cell_type": "markdown",
   "metadata": {
    "id": "80763237"
   },
   "source": [
    "<center> <b> <span style=\"color:orange;\"> 🎉 FÉLICITATIONS! 🎉 </span> </b></center>"
   ]
  }
 ],
 "metadata": {
  "colab": {
   "collapsed_sections": [],
   "name": "In2Py_TP_01.ipynb",
   "provenance": []
  },
  "kernelspec": {
   "display_name": "Python 3 (ipykernel)",
   "language": "python",
   "name": "python3"
  },
  "language_info": {
   "codemirror_mode": {
    "name": "ipython",
    "version": 3
   },
   "file_extension": ".py",
   "mimetype": "text/x-python",
   "name": "python",
   "nbconvert_exporter": "python",
   "pygments_lexer": "ipython3",
   "version": "3.8.10"
  }
 },
 "nbformat": 4,
 "nbformat_minor": 5
}
