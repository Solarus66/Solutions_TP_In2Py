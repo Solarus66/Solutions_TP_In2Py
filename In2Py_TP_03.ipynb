{
 "cells": [
  {
   "cell_type": "markdown",
   "metadata": {
    "id": "12_fdbLn8p4A"
   },
   "source": [
    "\n",
    "\n",
    "### <center> <b> <span style=\"color:blue;\"> Travaux Pratiques: Objets itérables ou conteneurs</span> </b></center>\n"
   ]
  },
  {
   "cell_type": "markdown",
   "metadata": {
    "id": "E_ZB23H68p4D"
   },
   "source": [
    "###  <center> <b> <span style=\"color:blue;\"> Listes </span> </b></center>"
   ]
  },
  {
   "cell_type": "markdown",
   "metadata": {
    "id": "H0cIcjGk8p4G"
   },
   "source": [
    "#### **Exercice 00:** \n",
    ">**Déclarer une liste vide.**"
   ]
  },
  {
   "cell_type": "code",
   "execution_count": 3,
   "metadata": {
    "colab": {
     "base_uri": "https://localhost:8080/"
    },
    "id": "45QEMilz8p4I",
    "outputId": "57f37201-144a-47a3-e0b3-98f739633dd8"
   },
   "outputs": [
    {
     "name": "stdout",
     "output_type": "stream",
     "text": [
      "[]\n"
     ]
    }
   ],
   "source": [
    "x = []\n",
    "#print(x)"
   ]
  },
  {
   "cell_type": "markdown",
   "metadata": {
    "id": "zZ0XnwpB8p4J"
   },
   "source": [
    "#### **Exercice 01:** \n",
    ">**Déclarer une liste de plus de 5 éléments.**"
   ]
  },
  {
   "cell_type": "code",
   "execution_count": 4,
   "metadata": {
    "colab": {
     "base_uri": "https://localhost:8080/"
    },
    "id": "HV32hLfA8p4L",
    "outputId": "2e6512ac-fc27-44ae-aedf-b72deb0c9453"
   },
   "outputs": [
    {
     "name": "stdout",
     "output_type": "stream",
     "text": [
      "[0, 1, 2, 3, 4, 5]\n"
     ]
    }
   ],
   "source": [
    "x = [0, 1, 2, 3, 4, 5]\n",
    "#print(x)"
   ]
  },
  {
   "cell_type": "markdown",
   "metadata": {
    "id": "tJpy6kNz8p4M"
   },
   "source": [
    "#### **Exercice 02:** \n",
    ">**Trouver la longueur de votre liste.**"
   ]
  },
  {
   "cell_type": "code",
   "execution_count": 5,
   "metadata": {
    "colab": {
     "base_uri": "https://localhost:8080/"
    },
    "id": "627A_RNw8p4O",
    "outputId": "9e39a0a0-a25f-4234-ff08-88d11eb6f96b"
   },
   "outputs": [
    {
     "data": {
      "text/plain": [
       "6"
      ]
     },
     "execution_count": 5,
     "metadata": {},
     "output_type": "execute_result"
    }
   ],
   "source": [
    "len(x)"
   ]
  },
  {
   "cell_type": "markdown",
   "metadata": {
    "id": "unFrwT5t8p4Q"
   },
   "source": [
    "#### **Exercice 03:** \n",
    ">**Obtenez le premier élément, l'élément central et le dernier élément de la liste.**\n",
    "\n"
   ]
  },
  {
   "cell_type": "code",
   "execution_count": 6,
   "metadata": {
    "colab": {
     "base_uri": "https://localhost:8080/"
    },
    "id": "MUuc1gaQ8p4R",
    "outputId": "ba6e79d3-7361-4cae-f4b3-dfa6e90772e6"
   },
   "outputs": [
    {
     "name": "stdout",
     "output_type": "stream",
     "text": [
      "0\n",
      "2\n",
      "5\n"
     ]
    }
   ],
   "source": [
    "print(x[0])\n",
    "print(x[((len(x)-1)//2)])\n",
    "print(x[len(x)-1])"
   ]
  },
  {
   "cell_type": "markdown",
   "metadata": {
    "id": "4Rqp8q0L8p4R"
   },
   "source": [
    "#### **Exercice 04:** \n",
    ">**Déclarez une liste appelée mixed_data_types, mettez votre (nom, âge, taille, état civil, adresse).**"
   ]
  },
  {
   "cell_type": "code",
   "execution_count": 8,
   "metadata": {
    "id": "EoZPW2UH8p4S"
   },
   "outputs": [
    {
     "name": "stdout",
     "output_type": "stream",
     "text": [
      "['UCHIHA', 21, 1.85, 'celibataire', 'Konoha']\n"
     ]
    }
   ],
   "source": [
    "mixed_data_types = ['UCHIHA', 21, 1.85, 'celibataire', 'Konoha']\n",
    "#print(mixed_data_types)"
   ]
  },
  {
   "cell_type": "markdown",
   "metadata": {
    "id": "OPYSNV1l8p4T"
   },
   "source": [
    "#### **Exercice 05:** \n",
    "\n",
    "    1. Déclarez une variable liste appelée it_companies et attribuez les valeurs initiales Facebook, Google, Microsoft, Apple, IBM, Oracle et Amazon.\n",
    "\n",
    "    2. Imprimez la liste à l'aide de print()\n",
    "\n",
    "    3. Imprimez le nombre d'entreprises dans la liste\n",
    "\n",
    "    4. Imprimez la première, la moyenne et la dernière entreprise\n",
    "\n",
    "    5. Imprimez la liste après avoir modifié l'une des entreprises.\n",
    "\n",
    "    6. Ajout d'une entreprise informatique à it_companies\n",
    "\n",
    "    7. Insérer une entreprise informatique au milieu de la liste des entreprises\n",
    "\n",
    "    8. Changez le nom d'une des it_companies en majuscule (sauf IBM !)\n",
    "\n",
    "    9. Joignez les it_companies avec une chaîne '# ; '.\n",
    "\n",
    "    10. Vérifier si une certaine entreprise existe dans la liste it_companies.\n",
    "\n",
    "    11. Trier la liste en utilisant la méthode sort()\n",
    "\n",
    "    12. Inversez la liste par ordre décroissant à l'aide de la méthode reverse().\n",
    "\n",
    "    13. Supprimez les 3 premières entreprises de la liste.\n",
    "\n",
    "    14. Supprimez les 3 dernières entreprises de la liste.\n",
    "\n",
    "    15. Supprimez la ou les entreprises informatiques du milieu de la liste.\n",
    "\n",
    "    16. Supprimez la première entreprise informatique de la liste\n",
    "\n",
    "    17. Supprimez la ou les entreprises informatiques du milieu de la liste.\n",
    "\n",
    "    18. Retirer la dernière entreprise informatique de la liste\n",
    "\n",
    "    19. Supprimez toutes les entreprises informatiques de la liste\n",
    "\n",
    "    20. Détruire la liste des entreprises informatiques"
   ]
  },
  {
   "cell_type": "code",
   "execution_count": 36,
   "metadata": {
    "id": "4M_XODba8p4V"
   },
   "outputs": [
    {
     "name": "stdout",
     "output_type": "stream",
     "text": [
      "['Facebook', 'Google', 'Microsoft', 'Apple', 'IBM', 'Oracle', 'Amazon']\n",
      "La liste comporte 7 entreprises.\n",
      "La premiere entreprise : Facebook\n",
      "L'entreprise moyenne : Apple\n",
      "La derniere entreprise : Amazon\n",
      "['Facebook', 'Google', 'Microsoft', 'Apple', 'IBM', 'Tesla', 'Amazon']\n",
      "['Facebook', 'Google', 'Microsoft', 'Apple', 'IBM', 'Tesla', 'Amazon', 'Twitter']\n",
      "['Facebook', 'Google', 'Microsoft', 'Paypal', 'Apple', 'IBM', 'Tesla', 'Amazon', 'Twitter']\n",
      "['Facebook', 'GOOGLE', 'Microsoft', 'Paypal', 'Apple', 'IBM', 'Tesla', 'Amazon', 'Twitter']\n",
      "Facebook#; GOOGLE#; Microsoft#; Paypal#; Apple#; IBM#; Tesla#; Amazon#; Twitter\n",
      "0\n",
      "['Amazon', 'Apple', 'Facebook', 'GOOGLE', 'IBM', 'Microsoft', 'Paypal', 'Tesla', 'Twitter']\n",
      "['Twitter', 'Tesla', 'Paypal', 'Microsoft', 'IBM', 'GOOGLE', 'Facebook', 'Apple', 'Amazon']\n",
      "['Microsoft', 'IBM', 'GOOGLE', 'Facebook', 'Apple', 'Amazon']\n",
      "['Microsoft', 'IBM', 'GOOGLE']\n",
      "['Microsoft', 'GOOGLE']\n"
     ]
    }
   ],
   "source": [
    "it_companies = ['Facebook', 'Google', 'Microsoft', 'Apple', 'IBM', 'Oracle', 'Amazon']\n",
    "\n",
    "print(it_companies)\n",
    "\n",
    "print(\"La liste comporte\", len(it_companies), \"entreprises.\")\n",
    "\n",
    "print(\"La premiere entreprise :\", it_companies[0])\n",
    "print(\"L'entreprise moyenne :\", it_companies[(len(it_companies)-1)//2])\n",
    "print(\"La derniere entreprise :\", it_companies[len(it_companies)-1])\n",
    "\n",
    "it_companies[len(it_companies)-2] = 'Tesla'\n",
    "print(it_companies)\n",
    "\n",
    "it_companies.append('Twitter')\n",
    "print(it_companies)\n",
    "\n",
    "it_companies.insert((len(it_companies)-1)//2, 'Paypal')\n",
    "print(it_companies)\n",
    "\n",
    "it_companies[1] = it_companies[1].upper()\n",
    "print(it_companies)\n",
    "\n",
    "ch = \"#; \".join(it_companies)\n",
    "print(ch)\n",
    "\n",
    "a = it_companies.count(\"HP\")\n",
    "print(a)\n",
    "\n",
    "it_companies.sort()\n",
    "print(it_companies)\n",
    "\n",
    "it_companies.reverse()\n",
    "print(it_companies)\n",
    "\n",
    "it_companies.remove(it_companies[0])\n",
    "it_companies.remove(it_companies[0])\n",
    "it_companies.remove(it_companies[0])\n",
    "print(it_companies)\n",
    "\n",
    "it_companies.remove(it_companies[len(it_companies)-1])\n",
    "it_companies.remove(it_companies[len(it_companies)-1])\n",
    "it_companies.remove(it_companies[len(it_companies)-1])\n",
    "print(it_companies)\n",
    "\n",
    "it_companies.remove(it_companies[(len(it_companies)-1)//2])\n",
    "print(it_companies)"
   ]
  },
  {
   "cell_type": "markdown",
   "metadata": {
    "id": "AfauolZA8p4V"
   },
   "source": [
    "#### **Exercice 06:** \n",
    "**Joindre les listes suivantes :**\n",
    "     \n",
    "         front_end = ['HTML', 'CSS', 'JS', 'React', 'Redux']  \n",
    "         back_end = ['Node','Express', 'MongoDB']"
   ]
  },
  {
   "cell_type": "code",
   "execution_count": 1,
   "metadata": {
    "colab": {
     "base_uri": "https://localhost:8080/"
    },
    "id": "6V8OXDSW8p4W",
    "outputId": "1b627109-6515-4c20-df97-d8bd6fa760f6"
   },
   "outputs": [
    {
     "name": "stdout",
     "output_type": "stream",
     "text": [
      "['HTML', 'CSS', 'JS', 'React', 'Redux', 'Node', 'Express', 'MongoDB']\n"
     ]
    }
   ],
   "source": [
    "front_end = ['HTML', 'CSS', 'JS', 'React', 'Redux']  \n",
    "back_end = ['Node','Express', 'MongoDB']\n",
    "result = front_end+back_end\n",
    "#print(result)"
   ]
  },
  {
   "cell_type": "markdown",
   "metadata": {
    "id": "kASFM1bh8p4X"
   },
   "source": [
    "#### **Exercice 07:** \n",
    "Voici une liste de 10 âges d'étudiants :\n",
    "\n",
    "         ages = [19, 22, 19, 24, 20, 25, 26, 24, 25, 24]\n",
    "         \n",
    " \n",
    "    1. Trier la liste et trouver l'âge minimum et maximum.\n",
    "    2. Ajoutez à nouveau l'âge minimum et l'âge maximum à la liste.\n",
    "    3. Trouvez l'âge médian (un élément du milieu ou deux éléments du milieu divisés par deux).\n",
    "    4. Trouvez l'âge moyen (somme de tous les éléments divisée par leur nombre).\n",
    "    4. Trouver l'intervalle des âges (max moins min)\n",
    "    5. Comparez les valeurs de (min - moyenne) et (max - moyenne) en utilisant la méthode abs().\n",
    "        "
   ]
  },
  {
   "cell_type": "code",
   "execution_count": 10,
   "metadata": {
    "colab": {
     "base_uri": "https://localhost:8080/"
    },
    "id": "TWTGGaOO8p4Z",
    "outputId": "d64f879c-1074-464a-cc60-23a7ae032b29"
   },
   "outputs": [
    {
     "name": "stdout",
     "output_type": "stream",
     "text": [
      "L'age minimale : 19\n",
      "L'age maximale : 26\n",
      "L'age median : 24\n",
      "L'age moyen : 22.75\n",
      "Intervalle des ages : 7\n",
      "Comparaison : 7.0\n"
     ]
    }
   ],
   "source": [
    "ages = [19, 22, 19, 24, 20, 25, 26, 24, 25, 24]\n",
    "\n",
    "ages.sort()\n",
    "print(\"L'age minimale :\", ages[0])\n",
    "print(\"L'age maximale :\", ages[len(ages)-1])\n",
    "\n",
    "a = ages[0]\n",
    "b = ages[len(ages)-1]\n",
    "ages.append(a)\n",
    "ages.append(b)\n",
    "\n",
    "print(\"L'age median :\", ages[(len(ages)-1)//2])\n",
    "\n",
    "moy = sum(ages)/len(ages)\n",
    "print(\"L'age moyen :\", moy)\n",
    "\n",
    "print(\"Intervalle des ages :\", (b-a))\n",
    "\n",
    "print(\"Comparaison :\", abs((a-moy) - (b-moy)))"
   ]
  },
  {
   "cell_type": "markdown",
   "metadata": {
    "id": "1f0X_hVGYbNB"
   },
   "source": []
  },
  {
   "cell_type": "markdown",
   "metadata": {
    "id": "bF7FI4iT8p4i"
   },
   "source": [
    "###  <center> <b> <span style=\"color:blue;\"> Dictionnaires </span> </b></center>"
   ]
  },
  {
   "cell_type": "markdown",
   "metadata": {
    "id": "VzcSJMf18p4j"
   },
   "source": [
    "\n",
    "1. Créer un dictionnaire vide appelé `dog`\n",
    "2. Ajoute le nom, la couleur, la race, les pattes, l'âge au dictionnaire dog.\n",
    "3. Créez un dictionnaire student et ajoutez le prénom, le nom, le sexe, l'âge, l'état civil, les compétences, le pays, la ville et l'adresse comme clés pour le dictionnaire.\n",
    "4. Obtenez la longueur du dictionnaire student\n",
    "5. Récupérez la valeur des compétences et vérifiez le type de données, il doit s'agir d'une liste.\n",
    "6. Modifiez les valeurs des compétences en ajoutant une ou deux compétences.\n",
    "7. Obtenez les clés du dictionnaire sous forme de liste\n",
    "8. Obtenir les valeurs du dictionnaire sous forme de liste\n",
    "9. Transformer le dictionnaire en une liste de tuples en utilisant la méthode items()\n",
    "10. Supprimer un des éléments du dictionnaire\n",
    "11. Supprimer un des dictionnaires\n"
   ]
  },
  {
   "cell_type": "code",
   "execution_count": 11,
   "metadata": {
    "colab": {
     "base_uri": "https://localhost:8080/"
    },
    "id": "LJ6DfBUh8p4k",
    "outputId": "725d0091-4c2c-4c6e-ee0a-3cc64c047c7b"
   },
   "outputs": [
    {
     "name": "stdout",
     "output_type": "stream",
     "text": [
      "{'nom': 'chat', 'race': 'carni', 'pattes': 4, 'age': 6}\n"
     ]
    }
   ],
   "source": [
    "dog={}\n",
    "dog['nom'],dog['race'],dog['pattes'],dog['age'] = 'chat','carni',4,6\n",
    "print(dog)"
   ]
  },
  {
   "cell_type": "code",
   "execution_count": null,
   "metadata": {
    "id": "rNdDqviE8p4l"
   },
   "outputs": [],
   "source": [
    "student = {'prenom':'chadrack','nom':'bahati','sexe':'M','etat civil':'celibataire','competances':['maths','politique','ecriture'],'pays':'RDC','adresse':'Mbour'}\n",
    "len(student)\n",
    "type(student['competances'])\n",
    "student['competances'].extend(['sapologie','chretien'])\n",
    "student['competances']\n",
    "student.keys()\n",
    "student.values()\n",
    "student.items()\n",
    "\n",
    "dog\n",
    "del dog\n"
   ]
  },
  {
   "cell_type": "markdown",
   "metadata": {
    "id": "ugc1Itzb8p4l"
   },
   "source": [
    "<center> <b> <span style=\"color:orange;\"> 🎉 FÉLICITATIONS !🎉 </span> </b></center>"
   ]
  }
 ],
 "metadata": {
  "colab": {
   "collapsed_sections": [],
   "name": "In2Py_TP_03.ipynb",
   "provenance": []
  },
  "kernelspec": {
   "display_name": "Python 3 (ipykernel)",
   "language": "python",
   "name": "python3"
  },
  "language_info": {
   "codemirror_mode": {
    "name": "ipython",
    "version": 3
   },
   "file_extension": ".py",
   "mimetype": "text/x-python",
   "name": "python",
   "nbconvert_exporter": "python",
   "pygments_lexer": "ipython3",
   "version": "3.8.10"
  }
 },
 "nbformat": 4,
 "nbformat_minor": 1
}
